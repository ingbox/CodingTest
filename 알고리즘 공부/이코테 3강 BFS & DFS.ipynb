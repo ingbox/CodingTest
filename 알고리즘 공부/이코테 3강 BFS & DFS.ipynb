{
 "cells": [
  {
   "cell_type": "markdown",
   "metadata": {},
   "source": [
    "## 재귀함수"
   ]
  },
  {
   "cell_type": "code",
   "execution_count": 1,
   "metadata": {},
   "outputs": [],
   "source": [
    "def recursive_function(i):\n",
    "    if i == 100:\n",
    "        return\n",
    "    print(i, '번째 재귀함수에서', i + 1, '번째 재귀함수를 호출합니다.')\n",
    "    recursive_function(i + 1)\n",
    "    print(i, '번째 재귀함수를 종료합니다.')"
   ]
  },
  {
   "cell_type": "code",
   "execution_count": 2,
   "metadata": {},
   "outputs": [
    {
     "name": "stdout",
     "output_type": "stream",
     "text": [
      "1 번째 재귀함수에서 2 번째 재귀함수를 호출합니다.\n",
      "2 번째 재귀함수에서 3 번째 재귀함수를 호출합니다.\n",
      "3 번째 재귀함수에서 4 번째 재귀함수를 호출합니다.\n",
      "4 번째 재귀함수에서 5 번째 재귀함수를 호출합니다.\n",
      "5 번째 재귀함수에서 6 번째 재귀함수를 호출합니다.\n",
      "6 번째 재귀함수에서 7 번째 재귀함수를 호출합니다.\n",
      "7 번째 재귀함수에서 8 번째 재귀함수를 호출합니다.\n",
      "8 번째 재귀함수에서 9 번째 재귀함수를 호출합니다.\n",
      "9 번째 재귀함수에서 10 번째 재귀함수를 호출합니다.\n",
      "10 번째 재귀함수에서 11 번째 재귀함수를 호출합니다.\n",
      "11 번째 재귀함수에서 12 번째 재귀함수를 호출합니다.\n",
      "12 번째 재귀함수에서 13 번째 재귀함수를 호출합니다.\n",
      "13 번째 재귀함수에서 14 번째 재귀함수를 호출합니다.\n",
      "14 번째 재귀함수에서 15 번째 재귀함수를 호출합니다.\n",
      "15 번째 재귀함수에서 16 번째 재귀함수를 호출합니다.\n",
      "16 번째 재귀함수에서 17 번째 재귀함수를 호출합니다.\n",
      "17 번째 재귀함수에서 18 번째 재귀함수를 호출합니다.\n",
      "18 번째 재귀함수에서 19 번째 재귀함수를 호출합니다.\n",
      "19 번째 재귀함수에서 20 번째 재귀함수를 호출합니다.\n",
      "20 번째 재귀함수에서 21 번째 재귀함수를 호출합니다.\n",
      "21 번째 재귀함수에서 22 번째 재귀함수를 호출합니다.\n",
      "22 번째 재귀함수에서 23 번째 재귀함수를 호출합니다.\n",
      "23 번째 재귀함수에서 24 번째 재귀함수를 호출합니다.\n",
      "24 번째 재귀함수에서 25 번째 재귀함수를 호출합니다.\n",
      "25 번째 재귀함수에서 26 번째 재귀함수를 호출합니다.\n",
      "26 번째 재귀함수에서 27 번째 재귀함수를 호출합니다.\n",
      "27 번째 재귀함수에서 28 번째 재귀함수를 호출합니다.\n",
      "28 번째 재귀함수에서 29 번째 재귀함수를 호출합니다.\n",
      "29 번째 재귀함수에서 30 번째 재귀함수를 호출합니다.\n",
      "30 번째 재귀함수에서 31 번째 재귀함수를 호출합니다.\n",
      "31 번째 재귀함수에서 32 번째 재귀함수를 호출합니다.\n",
      "32 번째 재귀함수에서 33 번째 재귀함수를 호출합니다.\n",
      "33 번째 재귀함수에서 34 번째 재귀함수를 호출합니다.\n",
      "34 번째 재귀함수에서 35 번째 재귀함수를 호출합니다.\n",
      "35 번째 재귀함수에서 36 번째 재귀함수를 호출합니다.\n",
      "36 번째 재귀함수에서 37 번째 재귀함수를 호출합니다.\n",
      "37 번째 재귀함수에서 38 번째 재귀함수를 호출합니다.\n",
      "38 번째 재귀함수에서 39 번째 재귀함수를 호출합니다.\n",
      "39 번째 재귀함수에서 40 번째 재귀함수를 호출합니다.\n",
      "40 번째 재귀함수에서 41 번째 재귀함수를 호출합니다.\n",
      "41 번째 재귀함수에서 42 번째 재귀함수를 호출합니다.\n",
      "42 번째 재귀함수에서 43 번째 재귀함수를 호출합니다.\n",
      "43 번째 재귀함수에서 44 번째 재귀함수를 호출합니다.\n",
      "44 번째 재귀함수에서 45 번째 재귀함수를 호출합니다.\n",
      "45 번째 재귀함수에서 46 번째 재귀함수를 호출합니다.\n",
      "46 번째 재귀함수에서 47 번째 재귀함수를 호출합니다.\n",
      "47 번째 재귀함수에서 48 번째 재귀함수를 호출합니다.\n",
      "48 번째 재귀함수에서 49 번째 재귀함수를 호출합니다.\n",
      "49 번째 재귀함수에서 50 번째 재귀함수를 호출합니다.\n",
      "50 번째 재귀함수에서 51 번째 재귀함수를 호출합니다.\n",
      "51 번째 재귀함수에서 52 번째 재귀함수를 호출합니다.\n",
      "52 번째 재귀함수에서 53 번째 재귀함수를 호출합니다.\n",
      "53 번째 재귀함수에서 54 번째 재귀함수를 호출합니다.\n",
      "54 번째 재귀함수에서 55 번째 재귀함수를 호출합니다.\n",
      "55 번째 재귀함수에서 56 번째 재귀함수를 호출합니다.\n",
      "56 번째 재귀함수에서 57 번째 재귀함수를 호출합니다.\n",
      "57 번째 재귀함수에서 58 번째 재귀함수를 호출합니다.\n",
      "58 번째 재귀함수에서 59 번째 재귀함수를 호출합니다.\n",
      "59 번째 재귀함수에서 60 번째 재귀함수를 호출합니다.\n",
      "60 번째 재귀함수에서 61 번째 재귀함수를 호출합니다.\n",
      "61 번째 재귀함수에서 62 번째 재귀함수를 호출합니다.\n",
      "62 번째 재귀함수에서 63 번째 재귀함수를 호출합니다.\n",
      "63 번째 재귀함수에서 64 번째 재귀함수를 호출합니다.\n",
      "64 번째 재귀함수에서 65 번째 재귀함수를 호출합니다.\n",
      "65 번째 재귀함수에서 66 번째 재귀함수를 호출합니다.\n",
      "66 번째 재귀함수에서 67 번째 재귀함수를 호출합니다.\n",
      "67 번째 재귀함수에서 68 번째 재귀함수를 호출합니다.\n",
      "68 번째 재귀함수에서 69 번째 재귀함수를 호출합니다.\n",
      "69 번째 재귀함수에서 70 번째 재귀함수를 호출합니다.\n",
      "70 번째 재귀함수에서 71 번째 재귀함수를 호출합니다.\n",
      "71 번째 재귀함수에서 72 번째 재귀함수를 호출합니다.\n",
      "72 번째 재귀함수에서 73 번째 재귀함수를 호출합니다.\n",
      "73 번째 재귀함수에서 74 번째 재귀함수를 호출합니다.\n",
      "74 번째 재귀함수에서 75 번째 재귀함수를 호출합니다.\n",
      "75 번째 재귀함수에서 76 번째 재귀함수를 호출합니다.\n",
      "76 번째 재귀함수에서 77 번째 재귀함수를 호출합니다.\n",
      "77 번째 재귀함수에서 78 번째 재귀함수를 호출합니다.\n",
      "78 번째 재귀함수에서 79 번째 재귀함수를 호출합니다.\n",
      "79 번째 재귀함수에서 80 번째 재귀함수를 호출합니다.\n",
      "80 번째 재귀함수에서 81 번째 재귀함수를 호출합니다.\n",
      "81 번째 재귀함수에서 82 번째 재귀함수를 호출합니다.\n",
      "82 번째 재귀함수에서 83 번째 재귀함수를 호출합니다.\n",
      "83 번째 재귀함수에서 84 번째 재귀함수를 호출합니다.\n",
      "84 번째 재귀함수에서 85 번째 재귀함수를 호출합니다.\n",
      "85 번째 재귀함수에서 86 번째 재귀함수를 호출합니다.\n",
      "86 번째 재귀함수에서 87 번째 재귀함수를 호출합니다.\n",
      "87 번째 재귀함수에서 88 번째 재귀함수를 호출합니다.\n",
      "88 번째 재귀함수에서 89 번째 재귀함수를 호출합니다.\n",
      "89 번째 재귀함수에서 90 번째 재귀함수를 호출합니다.\n",
      "90 번째 재귀함수에서 91 번째 재귀함수를 호출합니다.\n",
      "91 번째 재귀함수에서 92 번째 재귀함수를 호출합니다.\n",
      "92 번째 재귀함수에서 93 번째 재귀함수를 호출합니다.\n",
      "93 번째 재귀함수에서 94 번째 재귀함수를 호출합니다.\n",
      "94 번째 재귀함수에서 95 번째 재귀함수를 호출합니다.\n",
      "95 번째 재귀함수에서 96 번째 재귀함수를 호출합니다.\n",
      "96 번째 재귀함수에서 97 번째 재귀함수를 호출합니다.\n",
      "97 번째 재귀함수에서 98 번째 재귀함수를 호출합니다.\n",
      "98 번째 재귀함수에서 99 번째 재귀함수를 호출합니다.\n",
      "99 번째 재귀함수에서 100 번째 재귀함수를 호출합니다.\n",
      "99 번째 재귀함수를 종료합니다.\n",
      "98 번째 재귀함수를 종료합니다.\n",
      "97 번째 재귀함수를 종료합니다.\n",
      "96 번째 재귀함수를 종료합니다.\n",
      "95 번째 재귀함수를 종료합니다.\n",
      "94 번째 재귀함수를 종료합니다.\n",
      "93 번째 재귀함수를 종료합니다.\n",
      "92 번째 재귀함수를 종료합니다.\n",
      "91 번째 재귀함수를 종료합니다.\n",
      "90 번째 재귀함수를 종료합니다.\n",
      "89 번째 재귀함수를 종료합니다.\n",
      "88 번째 재귀함수를 종료합니다.\n",
      "87 번째 재귀함수를 종료합니다.\n",
      "86 번째 재귀함수를 종료합니다.\n",
      "85 번째 재귀함수를 종료합니다.\n",
      "84 번째 재귀함수를 종료합니다.\n",
      "83 번째 재귀함수를 종료합니다.\n",
      "82 번째 재귀함수를 종료합니다.\n",
      "81 번째 재귀함수를 종료합니다.\n",
      "80 번째 재귀함수를 종료합니다.\n",
      "79 번째 재귀함수를 종료합니다.\n",
      "78 번째 재귀함수를 종료합니다.\n",
      "77 번째 재귀함수를 종료합니다.\n",
      "76 번째 재귀함수를 종료합니다.\n",
      "75 번째 재귀함수를 종료합니다.\n",
      "74 번째 재귀함수를 종료합니다.\n",
      "73 번째 재귀함수를 종료합니다.\n",
      "72 번째 재귀함수를 종료합니다.\n",
      "71 번째 재귀함수를 종료합니다.\n",
      "70 번째 재귀함수를 종료합니다.\n",
      "69 번째 재귀함수를 종료합니다.\n",
      "68 번째 재귀함수를 종료합니다.\n",
      "67 번째 재귀함수를 종료합니다.\n",
      "66 번째 재귀함수를 종료합니다.\n",
      "65 번째 재귀함수를 종료합니다.\n",
      "64 번째 재귀함수를 종료합니다.\n",
      "63 번째 재귀함수를 종료합니다.\n",
      "62 번째 재귀함수를 종료합니다.\n",
      "61 번째 재귀함수를 종료합니다.\n",
      "60 번째 재귀함수를 종료합니다.\n",
      "59 번째 재귀함수를 종료합니다.\n",
      "58 번째 재귀함수를 종료합니다.\n",
      "57 번째 재귀함수를 종료합니다.\n",
      "56 번째 재귀함수를 종료합니다.\n",
      "55 번째 재귀함수를 종료합니다.\n",
      "54 번째 재귀함수를 종료합니다.\n",
      "53 번째 재귀함수를 종료합니다.\n",
      "52 번째 재귀함수를 종료합니다.\n",
      "51 번째 재귀함수를 종료합니다.\n",
      "50 번째 재귀함수를 종료합니다.\n",
      "49 번째 재귀함수를 종료합니다.\n",
      "48 번째 재귀함수를 종료합니다.\n",
      "47 번째 재귀함수를 종료합니다.\n",
      "46 번째 재귀함수를 종료합니다.\n",
      "45 번째 재귀함수를 종료합니다.\n",
      "44 번째 재귀함수를 종료합니다.\n",
      "43 번째 재귀함수를 종료합니다.\n",
      "42 번째 재귀함수를 종료합니다.\n",
      "41 번째 재귀함수를 종료합니다.\n",
      "40 번째 재귀함수를 종료합니다.\n",
      "39 번째 재귀함수를 종료합니다.\n",
      "38 번째 재귀함수를 종료합니다.\n",
      "37 번째 재귀함수를 종료합니다.\n",
      "36 번째 재귀함수를 종료합니다.\n",
      "35 번째 재귀함수를 종료합니다.\n",
      "34 번째 재귀함수를 종료합니다.\n",
      "33 번째 재귀함수를 종료합니다.\n",
      "32 번째 재귀함수를 종료합니다.\n",
      "31 번째 재귀함수를 종료합니다.\n",
      "30 번째 재귀함수를 종료합니다.\n",
      "29 번째 재귀함수를 종료합니다.\n",
      "28 번째 재귀함수를 종료합니다.\n",
      "27 번째 재귀함수를 종료합니다.\n",
      "26 번째 재귀함수를 종료합니다.\n",
      "25 번째 재귀함수를 종료합니다.\n",
      "24 번째 재귀함수를 종료합니다.\n",
      "23 번째 재귀함수를 종료합니다.\n",
      "22 번째 재귀함수를 종료합니다.\n",
      "21 번째 재귀함수를 종료합니다.\n",
      "20 번째 재귀함수를 종료합니다.\n",
      "19 번째 재귀함수를 종료합니다.\n",
      "18 번째 재귀함수를 종료합니다.\n",
      "17 번째 재귀함수를 종료합니다.\n",
      "16 번째 재귀함수를 종료합니다.\n",
      "15 번째 재귀함수를 종료합니다.\n",
      "14 번째 재귀함수를 종료합니다.\n",
      "13 번째 재귀함수를 종료합니다.\n",
      "12 번째 재귀함수를 종료합니다.\n",
      "11 번째 재귀함수를 종료합니다.\n",
      "10 번째 재귀함수를 종료합니다.\n",
      "9 번째 재귀함수를 종료합니다.\n",
      "8 번째 재귀함수를 종료합니다.\n",
      "7 번째 재귀함수를 종료합니다.\n",
      "6 번째 재귀함수를 종료합니다.\n",
      "5 번째 재귀함수를 종료합니다.\n",
      "4 번째 재귀함수를 종료합니다.\n",
      "3 번째 재귀함수를 종료합니다.\n",
      "2 번째 재귀함수를 종료합니다.\n",
      "1 번째 재귀함수를 종료합니다.\n"
     ]
    }
   ],
   "source": [
    "recursive_function(1)"
   ]
  },
  {
   "cell_type": "markdown",
   "metadata": {},
   "source": [
    "## 팩토리얼"
   ]
  },
  {
   "cell_type": "code",
   "execution_count": 3,
   "metadata": {},
   "outputs": [],
   "source": [
    "# 반복문을 사용한 팩토리얼\n",
    "def factorial_iterative(n):\n",
    "    result = 1\n",
    "    # 1부터 n까지의 수를 차례대로 곱하기\n",
    "    for i in range(1, n + 1):\n",
    "        result *= i\n",
    "        return result"
   ]
  },
  {
   "cell_type": "code",
   "execution_count": 4,
   "metadata": {},
   "outputs": [],
   "source": [
    "# 재귀적으로 구현한 팩토리얼\n",
    "def factorial_recursive(n):\n",
    "    if n <= 1: # n이 1보다 작을 때 1을 반환\n",
    "        return 1\n",
    "    # n! = n * (n - 1)!\n",
    "    return n * factorial_recursive(n - 1)"
   ]
  },
  {
   "cell_type": "code",
   "execution_count": 5,
   "metadata": {},
   "outputs": [
    {
     "data": {
      "text/plain": [
       "120"
      ]
     },
     "execution_count": 5,
     "metadata": {},
     "output_type": "execute_result"
    }
   ],
   "source": [
    "factorial_recursive(5)"
   ]
  },
  {
   "cell_type": "markdown",
   "metadata": {},
   "source": [
    "## 예제 \n",
    "\n",
    "재귀문을 사용하여 factorial을 만들어보시오"
   ]
  },
  {
   "cell_type": "code",
   "execution_count": 6,
   "metadata": {},
   "outputs": [],
   "source": [
    "def factorial_function(n):\n",
    "    if n <= 1:\n",
    "        return 1\n",
    "    return n * factorial_function(n - 1)\n",
    "    "
   ]
  },
  {
   "cell_type": "code",
   "execution_count": 7,
   "metadata": {},
   "outputs": [
    {
     "data": {
      "text/plain": [
       "120"
      ]
     },
     "execution_count": 7,
     "metadata": {},
     "output_type": "execute_result"
    }
   ],
   "source": [
    "factorial_function(5)"
   ]
  },
  {
   "cell_type": "markdown",
   "metadata": {},
   "source": [
    "## 유클리드 호제법\n",
    "\n",
    "두 개의 자연수에 대한 최대공약수를 구하는 대표적인 알고리즘\n",
    "\n",
    "GCD는 Greatest Common Divisor(최대 공약수)"
   ]
  },
  {
   "cell_type": "code",
   "execution_count": 9,
   "metadata": {},
   "outputs": [
    {
     "name": "stdout",
     "output_type": "stream",
     "text": [
      "6\n"
     ]
    }
   ],
   "source": [
    "def gcd(a, b):\n",
    "    if a % b == 0:\n",
    "        return b\n",
    "    else:\n",
    "        return gcd(b, a % b)\n",
    "\n",
    "print(gcd(192, 162))"
   ]
  },
  {
   "cell_type": "markdown",
   "metadata": {},
   "source": [
    "## DFS(깊이 우선 탐색) 구현"
   ]
  },
  {
   "cell_type": "code",
   "execution_count": 13,
   "metadata": {},
   "outputs": [],
   "source": [
    "def dfs(graph, v, visited):\n",
    "    # 현재 노드를 방문 처리\n",
    "    visited[v] = True\n",
    "    print(v, end=' ')\n",
    "    # 현재 노드와 연결된 다른 노드를 재귀적으로 방문\n",
    "    for i in graph[v]:\n",
    "        if not visited[i]:\n",
    "            dfs(graph, i, visited)"
   ]
  },
  {
   "cell_type": "code",
   "execution_count": 14,
   "metadata": {},
   "outputs": [],
   "source": [
    "graph = [ # 번째 노드와 연결된 노드들을 표시 ex 1번 노드는 2, 3,8 번과 연결\n",
    "    [],\n",
    "    [2, 3, 8],\n",
    "    [1, 7],\n",
    "    [1, 4, 5],\n",
    "    [3, 5],\n",
    "    [3, 4],\n",
    "    [7],\n",
    "    [2, 6, 8],\n",
    "    [1, 7]\n",
    "]\n",
    "\n",
    "visited = [False] * 9"
   ]
  },
  {
   "cell_type": "code",
   "execution_count": 15,
   "metadata": {},
   "outputs": [
    {
     "name": "stdout",
     "output_type": "stream",
     "text": [
      "1 2 7 6 8 3 4 5 "
     ]
    }
   ],
   "source": [
    "dfs(graph, 1, visited)"
   ]
  },
  {
   "cell_type": "markdown",
   "metadata": {},
   "source": [
    "## 예제\n",
    "DFS를 구현해보자"
   ]
  },
  {
   "cell_type": "code",
   "execution_count": 16,
   "metadata": {},
   "outputs": [],
   "source": [
    "def prac_dfs(graph, v, visited):\n",
    "    visited[v] = True\n",
    "    print(v, end=' ')\n",
    "    for i in graph[v]:\n",
    "        if not visited[i]:\n",
    "            prac_dfs(graph, i, visited)"
   ]
  },
  {
   "cell_type": "markdown",
   "metadata": {},
   "source": [
    "## BFS(너비 우선 탐색) 구현"
   ]
  },
  {
   "cell_type": "code",
   "execution_count": 22,
   "metadata": {},
   "outputs": [],
   "source": [
    "from collections import deque\n",
    "def bfs(graph, start, visited):\n",
    "    queue = deque([start])\n",
    "    visited[start] = True\n",
    "    \n",
    "    while queue:\n",
    "        v = queue.popleft()\n",
    "        print(v, end=' ')\n",
    "        for i in graph[v]:\n",
    "            if not visited[i]:\n",
    "                queue.append(i)\n",
    "                visited[i] = True\n",
    "                "
   ]
  },
  {
   "cell_type": "code",
   "execution_count": 23,
   "metadata": {},
   "outputs": [],
   "source": [
    "graph = [ # 번째 노드와 연결된 노드들을 표시 ex 1번 노드는 2, 3,8 번과 연결\n",
    "    [],\n",
    "    [2, 3, 8],\n",
    "    [1, 7],\n",
    "    [1, 4, 5],\n",
    "    [3, 5],\n",
    "    [3, 4],\n",
    "    [7],\n",
    "    [2, 6, 8],\n",
    "    [1, 7]\n",
    "]\n",
    "\n",
    "visited = [False] * 9"
   ]
  },
  {
   "cell_type": "code",
   "execution_count": 24,
   "metadata": {},
   "outputs": [
    {
     "name": "stdout",
     "output_type": "stream",
     "text": [
      "1 2 3 8 7 4 5 6 "
     ]
    }
   ],
   "source": [
    "bfs(graph, 1, visited)"
   ]
  },
  {
   "cell_type": "markdown",
   "metadata": {},
   "source": [
    "## 예제\n",
    "BFS를 구현해보자"
   ]
  },
  {
   "cell_type": "code",
   "execution_count": 25,
   "metadata": {},
   "outputs": [],
   "source": [
    "def prac_bfs(graph, start, visited):\n",
    "    queue = deque([start])\n",
    "    visited[start] = True\n",
    "   \n",
    "    while queue:\n",
    "        v = queue.popleft()   \n",
    "        print(v, end=' ')\n",
    "        for i in graph[v]:\n",
    "            if not visited[i]:\n",
    "                queue.append(i)\n",
    "                visited[i] = True"
   ]
  },
  {
   "cell_type": "markdown",
   "metadata": {},
   "source": [
    "## 얼음 보숭이"
   ]
  },
  {
   "cell_type": "code",
   "execution_count": 78,
   "metadata": {},
   "outputs": [],
   "source": [
    "import sys\n",
    "sys.setrecursionlimit(10**7)"
   ]
  },
  {
   "cell_type": "code",
   "execution_count": 79,
   "metadata": {},
   "outputs": [
    {
     "name": "stdout",
     "output_type": "stream",
     "text": [
      "3 3\n"
     ]
    }
   ],
   "source": [
    "n, m = map(int, input().split())"
   ]
  },
  {
   "cell_type": "code",
   "execution_count": 61,
   "metadata": {},
   "outputs": [
    {
     "name": "stdout",
     "output_type": "stream",
     "text": [
      "001\n",
      "010\n",
      "101\n"
     ]
    }
   ],
   "source": [
    "graph = []\n",
    "for i in range(n):\n",
    "    graph.append(list(map(int, input())))"
   ]
  },
  {
   "cell_type": "code",
   "execution_count": 80,
   "metadata": {},
   "outputs": [
    {
     "data": {
      "text/plain": [
       "[[0, 0, 1], [0, 1, 0], [1, 0, 1]]"
      ]
     },
     "execution_count": 80,
     "metadata": {},
     "output_type": "execute_result"
    }
   ],
   "source": [
    "graph"
   ]
  },
  {
   "cell_type": "code",
   "execution_count": 81,
   "metadata": {},
   "outputs": [],
   "source": [
    "def ice_dfs(x, y):\n",
    "    if x <= -1 or x >= n or y <= -1 or y >= m:\n",
    "        return False\n",
    "    if graph[x][y] == 0:\n",
    "        graph[x][y] == 1\n",
    "        ice_dfs(x - 1, y)\n",
    "        ice_dfs(x, y - 1)\n",
    "        ice_dfs(x + 1, y)\n",
    "        ice_dfs(x, y + 1)\n",
    "        return True\n",
    "    return False"
   ]
  },
  {
   "cell_type": "code",
   "execution_count": null,
   "metadata": {},
   "outputs": [],
   "source": [
    "count = 0\n",
    "for i in range(n):\n",
    "    for j in range(m):\n",
    "        if ice_dfs(i, j) == True:\n",
    "            count += 1\n",
    "print(count)"
   ]
  },
  {
   "cell_type": "markdown",
   "metadata": {},
   "source": [
    "## 미로 탈출\n",
    "\n",
    "BFS를 이용하자"
   ]
  },
  {
   "cell_type": "code",
   "execution_count": 25,
   "metadata": {},
   "outputs": [
    {
     "name": "stdout",
     "output_type": "stream",
     "text": [
      "3 3\n"
     ]
    }
   ],
   "source": [
    "n, m = map(int, input().split())"
   ]
  },
  {
   "cell_type": "code",
   "execution_count": 28,
   "metadata": {},
   "outputs": [
    {
     "name": "stdout",
     "output_type": "stream",
     "text": [
      "110\n",
      "010\n",
      "011\n"
     ]
    }
   ],
   "source": [
    "maze = []\n",
    "for i in range(n):\n",
    "    maze.append(list(map(int, input())))"
   ]
  },
  {
   "cell_type": "code",
   "execution_count": 44,
   "metadata": {},
   "outputs": [
    {
     "data": {
      "text/plain": [
       "[[1, 1, 0], [0, 1, 0], [0, 1, 1]]"
      ]
     },
     "execution_count": 44,
     "metadata": {},
     "output_type": "execute_result"
    }
   ],
   "source": [
    "maze"
   ]
  },
  {
   "cell_type": "code",
   "execution_count": 45,
   "metadata": {},
   "outputs": [],
   "source": [
    "from collections import deque"
   ]
  },
  {
   "cell_type": "code",
   "execution_count": 46,
   "metadata": {},
   "outputs": [],
   "source": [
    "# LRUD\n",
    "dx = [0, 0, -1, 1]\n",
    "dy = [-1, 1, 0, 0]"
   ]
  },
  {
   "cell_type": "code",
   "execution_count": 52,
   "metadata": {},
   "outputs": [],
   "source": [
    "def maze_bfs(x, y):\n",
    "    queue = deque()\n",
    "    queue.append((x, y))\n",
    "    \n",
    "    while queue:\n",
    "        x, y = queue.popleft()\n",
    "        for i in range(4):\n",
    "            p_x = x + dx[i]\n",
    "            p_y = y + dy[i]\n",
    "        \n",
    "            if p_x < 0 or p_x >= n or p_y < 0 or p_y >= m:\n",
    "                continue\n",
    "            \n",
    "            if maze[p_x][p_y] == 0:\n",
    "                continue\n",
    "            \n",
    "            if maze[p_x][p_y] == 1:\n",
    "                maze[p_x][p_y] = maze[x][y] + 1\n",
    "                queue.append((p_x, p_y))\n",
    "    return maze[n-1][m-1]"
   ]
  },
  {
   "cell_type": "code",
   "execution_count": 53,
   "metadata": {},
   "outputs": [
    {
     "name": "stdout",
     "output_type": "stream",
     "text": [
      "5\n"
     ]
    }
   ],
   "source": [
    "print(maze_bfs(0, 0))"
   ]
  },
  {
   "cell_type": "code",
   "execution_count": null,
   "metadata": {},
   "outputs": [],
   "source": []
  }
 ],
 "metadata": {
  "kernelspec": {
   "display_name": "ingbox",
   "language": "python",
   "name": "ingbox"
  },
  "language_info": {
   "codemirror_mode": {
    "name": "ipython",
    "version": 3
   },
   "file_extension": ".py",
   "mimetype": "text/x-python",
   "name": "python",
   "nbconvert_exporter": "python",
   "pygments_lexer": "ipython3",
   "version": "3.7.0"
  }
 },
 "nbformat": 4,
 "nbformat_minor": 4
}
