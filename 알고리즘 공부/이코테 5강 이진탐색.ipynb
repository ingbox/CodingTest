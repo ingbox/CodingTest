{
 "cells": [
  {
   "cell_type": "markdown",
   "metadata": {},
   "source": [
    "## 절단기의 길이 구하기"
   ]
  },
  {
   "cell_type": "code",
   "execution_count": 79,
   "metadata": {},
   "outputs": [],
   "source": [
    "array =[19, 10, 15, 17]\n",
    "n = 4\n",
    "m = 6\n",
    "\n"
   ]
  },
  {
   "cell_type": "markdown",
   "metadata": {},
   "source": [
    "절단기 보다 작은거 절단기의 길이보다 긴거<br>\n",
    "선형탐색\n"
   ]
  },
  {
   "cell_type": "code",
   "execution_count": 65,
   "metadata": {},
   "outputs": [
    {
     "data": {
      "text/plain": [
       "[10, 15, 17, 19]"
      ]
     },
     "execution_count": 65,
     "metadata": {},
     "output_type": "execute_result"
    }
   ],
   "source": [
    "array.sort()\n",
    "array"
   ]
  },
  {
   "cell_type": "code",
   "execution_count": 53,
   "metadata": {},
   "outputs": [],
   "source": [
    "from bisect import bisect_left, bisect_right"
   ]
  },
  {
   "cell_type": "code",
   "execution_count": 59,
   "metadata": {},
   "outputs": [],
   "source": [
    "def slice(array, n, result):\n",
    "        for i in range(array[len(array)-1], 0, -1):\n",
    "            sum = 0\n",
    "            for j in range(n):\n",
    "                if array[j] - i > 0:\n",
    "                    sum += array[j] - i\n",
    "            if sum >= result:\n",
    "                return i"
   ]
  },
  {
   "cell_type": "code",
   "execution_count": 60,
   "metadata": {},
   "outputs": [
    {
     "data": {
      "text/plain": [
       "12"
      ]
     },
     "execution_count": 60,
     "metadata": {},
     "output_type": "execute_result"
    }
   ],
   "source": [
    "slice(array, 4, 10)"
   ]
  },
  {
   "cell_type": "markdown",
   "metadata": {},
   "source": [
    "이진 탐색으로 구현"
   ]
  },
  {
   "cell_type": "code",
   "execution_count": 75,
   "metadata": {},
   "outputs": [],
   "source": [
    "def binary_search(array, result, start, end, mem):\n",
    "        sum_n = 0\n",
    "        mid = (start + end) // 2 \n",
    "        \n",
    "        for i in range(len(array)):\n",
    "            if array[i] - mid > 0:   \n",
    "                sum_n =+ array[i] - array[mid]\n",
    "        \n",
    "        if mem >= result:\n",
    "            mem = sum_n \n",
    "            binary_search(array, result, mid + 1 , end, mem)\n",
    "        else:\n",
    "            binary_search(array, result, start , mid - 1, mem)\n",
    "            \n",
    "        \n",
    "            \n",
    "            "
   ]
  },
  {
   "cell_type": "code",
   "execution_count": 77,
   "metadata": {},
   "outputs": [],
   "source": [
    "start = 0\n",
    "end = max(array)"
   ]
  },
  {
   "cell_type": "code",
   "execution_count": 80,
   "metadata": {},
   "outputs": [
    {
     "name": "stdout",
     "output_type": "stream",
     "text": [
      "15\n"
     ]
    }
   ],
   "source": [
    "result = 0\n",
    "while(start <= end):\n",
    "    total = 0\n",
    "    mid = (start + end) // 2\n",
    "    for x in array:\n",
    "        if x > mid:\n",
    "            total += x - mid\n",
    "        # 0 보다 큰 경우만 빼기 실행\n",
    "    # 떡의 양이 부족한 경우\n",
    "    if total < m: \n",
    "        end = mid - 1\n",
    "    # 떡의 양이 많은 경우\n",
    "    else:\n",
    "        result = mid\n",
    "        start = mid + 1\n",
    "\n",
    "print(result)"
   ]
  },
  {
   "cell_type": "markdown",
   "metadata": {},
   "source": [
    "## 특정 수의 개수 구하기"
   ]
  },
  {
   "cell_type": "code",
   "execution_count": 189,
   "metadata": {},
   "outputs": [],
   "source": [
    "array2 = [1, 1, 2, 2, 2, 2,2, 3]\n",
    "target = 1\n",
    "start = 0\n",
    "end = len(array2) - 1"
   ]
  },
  {
   "cell_type": "code",
   "execution_count": 190,
   "metadata": {},
   "outputs": [],
   "source": [
    "# def count_function_left(array, start, end, target):\n",
    "#         if start > end:\n",
    "#             return None\n",
    "#         mid = (start + end) // 2\n",
    "        \n",
    "#         if array[mid] >= target:\n",
    "#             count_function_left(array, start, mid - 1, target)\n",
    "#         else:\n",
    "#             count_function_left(array, mid + 1, end, target)\n",
    "        "
   ]
  },
  {
   "cell_type": "code",
   "execution_count": 194,
   "metadata": {},
   "outputs": [],
   "source": [
    "def left_count(array, start, end, target):\n",
    "    left = 0\n",
    "    while(start<=end):\n",
    "        mid = (start + end) // 2\n",
    "        if array[mid] >= target:\n",
    "            left = mid\n",
    "            end = mid - 1\n",
    "        else:\n",
    "            start = mid + 1\n",
    "    return left\n",
    "        \n",
    "def right_count(array, start, end, target):\n",
    "    right = 0\n",
    "    while(start <= end):\n",
    "        mid = (start + end) // 2\n",
    "        if array[mid] > target:\n",
    "            end = mid - 1\n",
    "        else:\n",
    "            right = mid\n",
    "            start = mid + 1\n",
    "    return right\n",
    "        "
   ]
  },
  {
   "cell_type": "code",
   "execution_count": 195,
   "metadata": {},
   "outputs": [
    {
     "data": {
      "text/plain": [
       "0"
      ]
     },
     "execution_count": 195,
     "metadata": {},
     "output_type": "execute_result"
    }
   ],
   "source": [
    "left_count(array2, start, end, target)"
   ]
  },
  {
   "cell_type": "code",
   "execution_count": 196,
   "metadata": {},
   "outputs": [
    {
     "data": {
      "text/plain": [
       "1"
      ]
     },
     "execution_count": 196,
     "metadata": {},
     "output_type": "execute_result"
    }
   ],
   "source": [
    "right_count(array2, start, end, target)"
   ]
  },
  {
   "cell_type": "code",
   "execution_count": null,
   "metadata": {},
   "outputs": [],
   "source": []
  }
 ],
 "metadata": {
  "kernelspec": {
   "display_name": "Python 3",
   "language": "python",
   "name": "python3"
  },
  "language_info": {
   "codemirror_mode": {
    "name": "ipython",
    "version": 3
   },
   "file_extension": ".py",
   "mimetype": "text/x-python",
   "name": "python",
   "nbconvert_exporter": "python",
   "pygments_lexer": "ipython3",
   "version": "3.7.6"
  }
 },
 "nbformat": 4,
 "nbformat_minor": 4
}
