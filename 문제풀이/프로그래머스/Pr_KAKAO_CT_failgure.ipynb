{
 "cells": [
  {
   "cell_type": "code",
   "execution_count": 53,
   "metadata": {},
   "outputs": [
    {
     "data": {
      "text/plain": [
       "[3, 4, 2, 1, 5]"
      ]
     },
     "execution_count": 53,
     "metadata": {},
     "output_type": "execute_result"
    }
   ],
   "source": [
    "N = 5\n",
    "stages = [2,1,2,6,2,4,3,3]\n",
    "def solution(stages, N):\n",
    "    array = []\n",
    "    cur = []\n",
    "    per = len(stages)\n",
    "    for i in range(1,N+1):\n",
    "        array.append([i,stages.count(i)])\n",
    "        fail = stages.count(i)/ per\n",
    "        cur.append([i,fail])\n",
    "        per -= stages.count(i)\n",
    "\n",
    "    cur.sort(key=lambda x:x[1],reverse=True)\n",
    "\n",
    "    return [x[0] for x in cur] \n"
   ]
  },
  {
   "cell_type": "code",
   "execution_count": null,
   "metadata": {},
   "outputs": [],
   "source": [
    "def solution_youtube(N, stages):\n",
    "    answer = []\n",
    "    tmp = []\n",
    "    cnt = len(stages)\n",
    "    for cur in range(1, N + 1):\n",
    "        num = stages.count(cur)\n",
    "        if num == 0:\n",
    "            tmp.append(0)\n",
    "        else:\n",
    "            tmp.append(num/cnt)\n",
    "        cnt -=stages.count(cur)\n",
    "    for i in range(N):\n",
    "        pop_idx = tmp.index(max(tmp))\n",
    "        answer.append(pop_idx + 1)\n",
    "        tmp[pop_idx] = -1\n",
    "    return answer"
   ]
  },
  {
   "cell_type": "code",
   "execution_count": null,
   "metadata": {},
   "outputs": [],
   "source": []
  }
 ],
 "metadata": {
  "kernelspec": {
   "display_name": "PyAloha",
   "language": "python",
   "name": "ingb"
  },
  "language_info": {
   "codemirror_mode": {
    "name": "ipython",
    "version": 3
   },
   "file_extension": ".py",
   "mimetype": "text/x-python",
   "name": "python",
   "nbconvert_exporter": "python",
   "pygments_lexer": "ipython3",
   "version": "3.7.9"
  }
 },
 "nbformat": 4,
 "nbformat_minor": 4
}
