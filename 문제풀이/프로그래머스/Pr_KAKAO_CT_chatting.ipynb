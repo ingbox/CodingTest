{
 "cells": [
  {
   "cell_type": "code",
   "execution_count": 35,
   "metadata": {},
   "outputs": [],
   "source": [
    "answer = []\n",
    "code = []\n",
    "ids = {}\n",
    "comment = {'Enter': \"들어왔습니다.\", 'Leave': \"나갔습니다\"}\n",
    "record = [\"Enter uid1234 Muzi\", \"Enter uid4567 Prodo\", \"Leave uid1234\", \"Enter uid1234 Prodo\", \"Change uid4567 Ryan\"]"
   ]
  },
  {
   "cell_type": "code",
   "execution_count": 36,
   "metadata": {},
   "outputs": [
    {
     "name": "stdout",
     "output_type": "stream",
     "text": [
      "['Prodo님이 들어왔습니다.', 'Ryan님이 들어왔습니다.', 'Prodo님이 나갔습니다', 'Prodo님이 들어왔습니다.']\n"
     ]
    }
   ],
   "source": [
    "for cur in record:\n",
    "    tmp = cur.split()\n",
    "    if tmp[0] == 'Enter':\n",
    "        ids[tmp[1]] = tmp[2]\n",
    "        code.append([tmp[1], tmp[0]])\n",
    "    elif tmp[0] == 'Leave':\n",
    "        code.append([tmp[1],tmp[0]])\n",
    "    else:\n",
    "        ids[tmp[1]] = tmp[2]\n",
    "        \n",
    "        \n",
    "for f in code:\n",
    "      answer.append(\"{}님이 {}\".format(ids[f[0]], comment[f[1]]))\n",
    " \n",
    "print(answer)  \n"
   ]
  },
  {
   "cell_type": "code",
   "execution_count": null,
   "metadata": {},
   "outputs": [],
   "source": []
  }
 ],
 "metadata": {
  "kernelspec": {
   "display_name": "PyAloha",
   "language": "python",
   "name": "ingb"
  },
  "language_info": {
   "codemirror_mode": {
    "name": "ipython",
    "version": 3
   },
   "file_extension": ".py",
   "mimetype": "text/x-python",
   "name": "python",
   "nbconvert_exporter": "python",
   "pygments_lexer": "ipython3",
   "version": "3.7.9"
  }
 },
 "nbformat": 4,
 "nbformat_minor": 4
}
