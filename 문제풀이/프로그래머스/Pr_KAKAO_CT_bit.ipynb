{
 "cells": [
  {
   "cell_type": "markdown",
   "metadata": {},
   "source": [
    "# 비밀지도\n",
    "네오는 평소 프로도가 비상금을 숨겨놓는 장소를 알려줄 비밀지도를 손에 넣었다. 그런데 이 비밀지도는 숫자로 암호화되어 있어 위치를 확인하기 위해서는 암호를 해독해야 한다. 다행히 지도 암호를 해독할 방법을 적어놓은 메모도 함께 발견했다.\n",
    "\n",
    "1. 지도는 한 변의 길이가 n인 정사각형 배열 형태로, 각 칸은 “공백”(“ “) 또는 “벽”(“#”) 두 종류로 이루어져 있다.\n",
    "2. 전체 지도는 두 장의 지도를 겹쳐서 얻을 수 있다. 각각 “지도 1”과 “지도 2”라고 하자. 지도 1 또는 지도 2 중 어느 하나라도 벽인 부분은 전체 지도에서도 벽이다. 지도 1과 지도 2에서 모두 공백인 부분은 전체 지도에서도 공백이다.\n",
    "3.“지도 1”과 “지도 2”는 각각 정수 배열로 암호화되어 있다.\n",
    "4. 암호화된 배열은 지도의 각 가로줄에서 벽 부분을 1, 공백 부분을 0으로 부호화했을 때 얻어지는 이진수에 해당하는 값의 배열이다"
   ]
  },
  {
   "cell_type": "markdown",
   "metadata": {},
   "source": [
    "![nn](img/220104_gb_img/CT_KAKAO_bit.png)"
   ]
  },
  {
   "cell_type": "markdown",
   "metadata": {},
   "source": [
    "###  입력 형식\n",
    "입력으로 지도의 한 변 크기 n 과 2개의 정수 배열 arr1, arr2가 들어온다.\n",
    "\n",
    "* 1 ≦ n ≦ 16\n",
    "* arr1, arr2는 길이 n인 정수 배열로 주어진다.\n",
    "* 정수 배열의 각 원소 x를 이진수로 변환했을 때의 길이는 n 이하이다. 즉, 0 ≦ x ≦ 2^n – 1을 만족한다.\n",
    "\n",
    "### 출력 형식\n",
    "* 원래의 비밀지도를 해독하여 \"#\", 공백으로 구성된 문자열 배열로 출력하라."
   ]
  },
  {
   "cell_type": "markdown",
   "metadata": {},
   "source": [
    "### 입출력 예제\n",
    "|매개변수|값|\n",
    "|:-----:|:-----:|\n",
    "|**n**|5|\n",
    "|**arr1**|[9, 20, 28, 18, 11]|\n",
    "|**arr2**|[30, 1, 21, 17, 28]|\n",
    "|**출력**|[\"#####\",\"# # #\", \"### #\", \"# ##\", \"#####\"]|\n",
    "\n",
    "|매개변수|값|\n",
    "|:-----:|:-----:|\n",
    "|**n**|6|\n",
    "|**arr1**|[46, 33, 33 ,22, 31, 50]|\n",
    "|**arr2**|[27 ,56, 19, 14, 14, 10]|\n",
    "|**출력**|[\"######\", \"### #\", \"## ##\", \" #### \", \" #####\", \"### # \"]|\n"
   ]
  },
  {
   "cell_type": "code",
   "execution_count": null,
   "metadata": {},
   "outputs": [],
   "source": [
    "n = 5\n",
    "arr1 = [9, 20, 28, 18, 11]\n",
    "arr2 = [30, 1, 21, 17, 28]"
   ]
  },
  {
   "cell_type": "code",
   "execution_count": 99,
   "metadata": {
    "scrolled": false
   },
   "outputs": [
    {
     "name": "stdout",
     "output_type": "stream",
     "text": [
      "11111\n",
      "10101\n",
      "11101\n",
      "10011\n",
      "11111\n"
     ]
    }
   ],
   "source": [
    "for i in range(n):\n",
    "   arr = bin(arr1[i] | arr2[i])[2:]\n",
    "   print(arr) \n"
   ]
  },
  {
   "cell_type": "code",
   "execution_count": 100,
   "metadata": {
    "scrolled": true
   },
   "outputs": [
    {
     "name": "stdout",
     "output_type": "stream",
     "text": [
      "#####\n",
      "# # #\n",
      "### #\n",
      "#  ##\n",
      "#####\n"
     ]
    }
   ],
   "source": [
    "result = [''] * 10\n",
    "for i in range(n):\n",
    "    targetBit = 1\n",
    "    resultString = \"\"\n",
    "    arr = bin(arr1[i] | arr2[i])[2:]\n",
    "    for j in range(n):\n",
    "         resultString = (\"#\" if int(arr,2) & targetBit > 0 else \" \") + resultString\n",
    "         targetBit = targetBit << 1    \n",
    "    result[i] = resultString\n",
    "    print(result[i])"
   ]
  }
 ],
 "metadata": {
  "kernelspec": {
   "display_name": "PyAloha",
   "language": "python",
   "name": "ingb"
  },
  "language_info": {
   "codemirror_mode": {
    "name": "ipython",
    "version": 3
   },
   "file_extension": ".py",
   "mimetype": "text/x-python",
   "name": "python",
   "nbconvert_exporter": "python",
   "pygments_lexer": "ipython3",
   "version": "3.7.9"
  }
 },
 "nbformat": 4,
 "nbformat_minor": 4
}
