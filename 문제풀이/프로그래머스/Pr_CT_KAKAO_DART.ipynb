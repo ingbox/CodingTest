{
 "cells": [
  {
   "cell_type": "code",
   "execution_count": 12,
   "metadata": {},
   "outputs": [],
   "source": [
    "def solution(dartResult):\n",
    "    answer = []\n",
    "    for num, i in enumerate(dartResult, 0): # num: index 번호, i: index 값\n",
    "        if i == 'S':\n",
    "            answer[-1] **= 1\n",
    "        elif i == 'D':\n",
    "            answer[-1] **= 2\n",
    "        elif i == 'T':\n",
    "            answer[-1] **= 3\n",
    "        elif i == '*':\n",
    "            answer[-1] *= 2\n",
    "            if len(answer) >= 2:\n",
    "                answer[-2] *= 2\n",
    "        elif i == '#':\n",
    "            answer[-1] *= -1\n",
    "        else:\n",
    "            if dartResult[num: num+2] == '10':\n",
    "                answer.append(10)\n",
    "            elif dartResult[num-1:num+1] != '10':\n",
    "                answer.append(int(i))\n",
    "    \n",
    "    return answer"
   ]
  },
  {
   "cell_type": "code",
   "execution_count": 13,
   "metadata": {},
   "outputs": [
    {
     "name": "stdout",
     "output_type": "stream",
     "text": [
      "[1, -2, 10]\n"
     ]
    }
   ],
   "source": [
    "print(solution('1D2S#10S'))"
   ]
  },
  {
   "cell_type": "code",
   "execution_count": 2,
   "metadata": {},
   "outputs": [
    {
     "name": "stdout",
     "output_type": "stream",
     "text": [
      "1 1\n",
      "2 S\n",
      "3 2\n",
      "4 D\n",
      "5 *\n",
      "6 3\n",
      "7 T\n"
     ]
    }
   ],
   "source": [
    "dartResult = \"1S2D*3T\"\n",
    "\n",
    "for num, i in enumerate(dartResult, 1):\n",
    "    print(num, i)"
   ]
  },
  {
   "cell_type": "code",
   "execution_count": 35,
   "metadata": {},
   "outputs": [],
   "source": [
    "import re\n",
    "\n",
    "def solution2(dartResult):\n",
    "    pattern = re.compile(r'([0-9]|10)([SDT])([\\*\\#]?)')\n",
    "    answer = []\n",
    "    compute = {\n",
    "            'S':lambda result:result,\n",
    "            'D':lambda result:result**2,\n",
    "            'T':lambda result:result**3\n",
    "        }\n",
    "    for num, power, prize in pattern.findall(dartResult):\n",
    "        if power == 'S':\n",
    "            result = compute['S'](int(num))\n",
    "        elif i == 'D':\n",
    "            result = compute['D'](int(num))\n",
    "        elif i == 'T':\n",
    "            result = compute['T'](int(num))\n",
    "        if prize == '*':\n",
    "            result *= 2\n",
    "            if answer:\n",
    "                answer[-1] *= 2\n",
    "        elif prize == '#':\n",
    "            result *= -1\n",
    "\n",
    "        answer.append(result)\n",
    "\n",
    "    return(sum(answer))"
   ]
  },
  {
   "cell_type": "code",
   "execution_count": 36,
   "metadata": {},
   "outputs": [
    {
     "data": {
      "text/plain": [
       "23"
      ]
     },
     "execution_count": 36,
     "metadata": {},
     "output_type": "execute_result"
    }
   ],
   "source": [
    "solution2(\"1S*2T*3S\")"
   ]
  },
  {
   "cell_type": "code",
   "execution_count": null,
   "metadata": {},
   "outputs": [],
   "source": []
  }
 ],
 "metadata": {
  "kernelspec": {
   "display_name": "PyAloha",
   "language": "python",
   "name": "ingb"
  },
  "language_info": {
   "codemirror_mode": {
    "name": "ipython",
    "version": 3
   },
   "file_extension": ".py",
   "mimetype": "text/x-python",
   "name": "python",
   "nbconvert_exporter": "python",
   "pygments_lexer": "ipython3",
   "version": "3.7.9"
  }
 },
 "nbformat": 4,
 "nbformat_minor": 4
}
