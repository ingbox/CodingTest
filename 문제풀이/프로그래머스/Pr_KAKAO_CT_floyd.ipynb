{
 "cells": [
  {
   "cell_type": "code",
   "execution_count": 64,
   "metadata": {},
   "outputs": [],
   "source": [
    "INF = 40000\n",
    "n = 6#노드의 개수\n",
    "fares = [[4,1,10],[3,5,24],[5,6,2],[3,1,41],[5,1,24],[4,6,50],[2,4,66],[2,3,22],[1,6,25]]"
   ]
  },
  {
   "cell_type": "code",
   "execution_count": 65,
   "metadata": {},
   "outputs": [],
   "source": [
    "dist = [[INF for _ in range(n)] for _ in range(n)]"
   ]
  },
  {
   "cell_type": "code",
   "execution_count": 66,
   "metadata": {},
   "outputs": [],
   "source": [
    "for i in range(n):\n",
    "    dist[i][i] = 0"
   ]
  },
  {
   "cell_type": "code",
   "execution_count": 67,
   "metadata": {},
   "outputs": [
    {
     "data": {
      "text/plain": [
       "[[0, 40000, 40000, 40000, 40000, 40000],\n",
       " [40000, 0, 40000, 40000, 40000, 40000],\n",
       " [40000, 40000, 0, 40000, 40000, 40000],\n",
       " [40000, 40000, 40000, 0, 40000, 40000],\n",
       " [40000, 40000, 40000, 40000, 0, 40000],\n",
       " [40000, 40000, 40000, 40000, 40000, 0]]"
      ]
     },
     "execution_count": 67,
     "metadata": {},
     "output_type": "execute_result"
    }
   ],
   "source": [
    "dist"
   ]
  },
  {
   "cell_type": "code",
   "execution_count": 72,
   "metadata": {},
   "outputs": [
    {
     "name": "stdout",
     "output_type": "stream",
     "text": [
      "3\n",
      "0\n",
      "10\n",
      "_________________________________\n",
      "2\n",
      "4\n",
      "24\n",
      "_________________________________\n",
      "4\n",
      "5\n",
      "2\n",
      "_________________________________\n",
      "2\n",
      "0\n",
      "41\n",
      "_________________________________\n",
      "4\n",
      "0\n",
      "24\n",
      "_________________________________\n",
      "3\n",
      "5\n",
      "50\n",
      "_________________________________\n",
      "1\n",
      "3\n",
      "66\n",
      "_________________________________\n",
      "1\n",
      "2\n",
      "22\n",
      "_________________________________\n",
      "0\n",
      "5\n",
      "25\n",
      "_________________________________\n"
     ]
    }
   ],
   "source": [
    "for edge in fares:\n",
    "    print(edge[0]-1)\n",
    "    print(edge[1]-1)\n",
    "    print(edge[2])\n",
    "    print(\"_________________________________\")\n",
    "    dist[edge[0]-1][edge[1]-1] = edge[2]\n",
    "    dist[edge[1]-1][edge[0]-1] = edge[2]"
   ]
  },
  {
   "cell_type": "code",
   "execution_count": 73,
   "metadata": {},
   "outputs": [
    {
     "data": {
      "text/plain": [
       "[[0, 40000, 41, 10, 24, 25],\n",
       " [40000, 0, 22, 66, 40000, 40000],\n",
       " [41, 22, 0, 40000, 24, 40000],\n",
       " [10, 66, 40000, 0, 40000, 50],\n",
       " [24, 40000, 24, 40000, 0, 2],\n",
       " [25, 40000, 40000, 50, 2, 0]]"
      ]
     },
     "execution_count": 73,
     "metadata": {},
     "output_type": "execute_result"
    }
   ],
   "source": [
    "dist"
   ]
  },
  {
   "cell_type": "code",
   "execution_count": 75,
   "metadata": {},
   "outputs": [],
   "source": [
    "def floyd(dist, n):\n",
    "    for k in range(n): #경유지\n",
    "        for i in range(n): #출발점\n",
    "            for j in range(n): # 도착점\n",
    "                if dist[i][k] + dist[k][j] < dist[i][j]: #i에서 j까지 가는데 k를 경유해서 간다면\n",
    "                    dist[i][j] = dist[i][k] + dist[k][j]"
   ]
  },
  {
   "cell_type": "code",
   "execution_count": 82,
   "metadata": {},
   "outputs": [
    {
     "data": {
      "text/plain": [
       "[[0, 63, 41, 10, 24, 25],\n",
       " [63, 0, 22, 66, 46, 48],\n",
       " [41, 22, 0, 51, 24, 26],\n",
       " [10, 66, 51, 0, 34, 35],\n",
       " [24, 46, 24, 34, 0, 2],\n",
       " [25, 48, 26, 35, 2, 0]]"
      ]
     },
     "execution_count": 82,
     "metadata": {},
     "output_type": "execute_result"
    }
   ],
   "source": [
    "floyd(dist, n)\n",
    "\n",
    "dist"
   ]
  },
  {
   "cell_type": "code",
   "execution_count": 83,
   "metadata": {},
   "outputs": [
    {
     "data": {
      "text/plain": [
       "82"
      ]
     },
     "execution_count": 83,
     "metadata": {},
     "output_type": "execute_result"
    }
   ],
   "source": [
    "s = 3\n",
    "a = 5\n",
    "b = 1\n",
    "answer = INF\n",
    "for k in range(n): #도착점\n",
    "    answer = min(answer, dist[s][k] + dist[k][a] + dist[k][b])\n",
    "\n",
    "answer"
   ]
  },
  {
   "cell_type": "code",
   "execution_count": null,
   "metadata": {},
   "outputs": [],
   "source": []
  }
 ],
 "metadata": {
  "kernelspec": {
   "display_name": "PyAloha",
   "language": "python",
   "name": "ingb"
  },
  "language_info": {
   "codemirror_mode": {
    "name": "ipython",
    "version": 3
   },
   "file_extension": ".py",
   "mimetype": "text/x-python",
   "name": "python",
   "nbconvert_exporter": "python",
   "pygments_lexer": "ipython3",
   "version": "3.7.9"
  }
 },
 "nbformat": 4,
 "nbformat_minor": 4
}
