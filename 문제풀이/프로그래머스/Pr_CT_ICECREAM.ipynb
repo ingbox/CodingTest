{
 "cells": [
  {
   "cell_type": "code",
   "execution_count": 16,
   "metadata": {},
   "outputs": [],
   "source": [
    "r, c = 4, 5\n",
    "frame = [\n",
    "    [0, 0, 1, 1, 0],\n",
    "    [0, 1, 0, 1, 1],\n",
    "    [1, 1, 1, 1, 1],\n",
    "    [0, 0, 0, 0, 0]\n",
    "]\n",
    "\n",
    "cnt = 0"
   ]
  },
  {
   "cell_type": "code",
   "execution_count": 17,
   "metadata": {},
   "outputs": [],
   "source": [
    "visited = [ [False for col in range(c)] for row in range(r) ]"
   ]
  },
  {
   "cell_type": "code",
   "execution_count": 18,
   "metadata": {},
   "outputs": [
    {
     "data": {
      "text/plain": [
       "[[False, False, False, False, False],\n",
       " [False, False, False, False, False],\n",
       " [False, False, False, False, False],\n",
       " [False, False, False, False, False]]"
      ]
     },
     "execution_count": 18,
     "metadata": {},
     "output_type": "execute_result"
    }
   ],
   "source": [
    "visited"
   ]
  },
  {
   "cell_type": "code",
   "execution_count": 20,
   "metadata": {},
   "outputs": [
    {
     "name": "stdout",
     "output_type": "stream",
     "text": [
      "4\n"
     ]
    }
   ],
   "source": [
    "def graph(start):\n",
    "    graphList = []\n",
    "    row, col = start[0], start[1]\n",
    "\n",
    "    for index in range(3):\n",
    "        if index == 0:\n",
    "            if col + 1 < c:\n",
    "                graphList.append([row, col + 1])\n",
    "        elif index == 1:\n",
    "            if row + 1 > -1 and row + 1 < r:\n",
    "                graphList.append([row + 1, col])\n",
    "                \n",
    "#       elif index == 2:  # 어처피 가다가 걸린다\n",
    "#           if col + 1 > -1 and col + 1 < c and row + 1 > -1 and row + 1 < r:\n",
    "#               graphList.append([row + 1, col + 1])\n",
    "\n",
    "    return graphList\n",
    "\n",
    "\n",
    "# bfs :: 개수 확인 코드\n",
    "from collections import deque\n",
    "\n",
    "def bfs(start, visited, frame):  # 연결이 되있는가? 라 bfs 사용\n",
    "                                  # start = 좌표 [r, c]\n",
    "    # start를 가진 queue를 생성\n",
    "    queue = deque([start])       # [r, c] 를 저장하는 queue\n",
    "\n",
    "    # queue에 중복 삽입 방지를 위해 삽입 후 방문 처리\n",
    "    visited[start[0]][start[1]] = True\n",
    "\n",
    "    while queue:  # queue가 비어있지 않으면\n",
    "        v = queue.popleft()  # FIFO\n",
    "        nearNode = graph(v)  # 인접 노드 확인\n",
    "\n",
    "        for i in nearNode:   # 인접노드\n",
    "            if not visited[i[0]][i[1]] and frame[i[0]][i[1]] != 1:  # 방문 X and 벽이 아님\n",
    "                queue.append(i)  # queue에 추가\n",
    "                visited[i[0]][i[1]] = True  # 삽입 후 방문 처리\n",
    "\n",
    "for row in range(r):\n",
    "    for col in range(c):\n",
    "        if visited[row][col] == False and frame[row][col] == 0:  # 방문 X and 벽이 아니면\n",
    "            start = [row, col]\n",
    "            # print(start)\n",
    "            bfs(start, visited, frame)\n",
    "            cnt += 1\n",
    "\n",
    "print(cnt)"
   ]
  },
  {
   "cell_type": "code",
   "execution_count": null,
   "metadata": {},
   "outputs": [],
   "source": []
  }
 ],
 "metadata": {
  "kernelspec": {
   "display_name": "PyAloha",
   "language": "python",
   "name": "ingb"
  },
  "language_info": {
   "codemirror_mode": {
    "name": "ipython",
    "version": 3
   },
   "file_extension": ".py",
   "mimetype": "text/x-python",
   "name": "python",
   "nbconvert_exporter": "python",
   "pygments_lexer": "ipython3",
   "version": "3.7.9"
  }
 },
 "nbformat": 4,
 "nbformat_minor": 4
}
