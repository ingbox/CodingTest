{
 "cells": [
  {
   "cell_type": "code",
   "execution_count": 6,
   "metadata": {},
   "outputs": [
    {
     "data": {
      "text/plain": [
       "4"
      ]
     },
     "execution_count": 6,
     "metadata": {},
     "output_type": "execute_result"
    }
   ],
   "source": [
    "s =  \"abcabcabc\"\n",
    "answer = len(s)\n",
    "\n",
    "for i in range(1,int(len(s)/2) + 1):\n",
    "    pos = 0 #어느 위치에서 문자열을 처리하고 있는지의 위치를 나타냄\n",
    "    length = len(s)\n",
    "    \n",
    "    while pos + i <= len(s):\n",
    "        unit = s[pos:pos+i]\n",
    "        pos += i\n",
    "        \n",
    "        cnt = 0\n",
    "        while pos + i <= len(s):\n",
    "            if unit == s[pos:pos +i]:\n",
    "               cnt += 1\n",
    "               pos += i\n",
    "            else:\n",
    "                break\n",
    "                \n",
    "        if cnt> 0:\n",
    "            length -= i * cnt # 이곳은 문자열에서 반복된 거를 다 빼주는 것\n",
    "            # 예를 들어 abcabcaa일때 abcabc면 i가 3이고 cnt가 1개가 증가했을거니까\n",
    "            # 3을 빼주지만 숫자를 더해야하기 때문에\n",
    "            if cnt < 9:\n",
    "                length += 1 #10보다 적으면 1을 더해줌\n",
    "            elif cnt < 99:\n",
    "                length += 2\n",
    "            elif cnt < 999:\n",
    "                length += 3\n",
    "            else:\n",
    "                length += 4\n",
    "    answer = min(answer, length)\n",
    "    \n",
    "answer"
   ]
  },
  {
   "cell_type": "code",
   "execution_count": 7,
   "metadata": {},
   "outputs": [
    {
     "data": {
      "text/plain": [
       "[0, 0, 0, 0, 0]"
      ]
     },
     "execution_count": 7,
     "metadata": {},
     "output_type": "execute_result"
    }
   ],
   "source": [
    "[0 for i in range(5)]"
   ]
  },
  {
   "cell_type": "code",
   "execution_count": 10,
   "metadata": {},
   "outputs": [
    {
     "name": "stdout",
     "output_type": "stream",
     "text": [
      "165\n",
      "170\n",
      "175\n",
      "180\n",
      "184\n"
     ]
    }
   ],
   "source": [
    "heights = [165,170,175,180,184]\n",
    "answer = 0\n",
    "n = len(heights)\n",
    "for h in heights:\n",
    "    \n",
    "    print(h)\n"
   ]
  },
  {
   "cell_type": "code",
   "execution_count": 14,
   "metadata": {},
   "outputs": [
    {
     "name": "stdout",
     "output_type": "stream",
     "text": [
      "james\n",
      "1\n",
      "luke\n",
      "2\n",
      "oliver\n",
      "jack\n",
      "3\n",
      "4\n"
     ]
    }
   ],
   "source": [
    "name_list =[\"james\", \"luke\", \"oliver\", \"jack\"]\n",
    "answer = 0\n",
    "for name in name_list:\n",
    "    for n in name:\n",
    "        if n == 'j' or n == 'k':\n",
    "            answer += 1\n",
    "            print(answer)\n",
    "            continue"
   ]
  },
  {
   "cell_type": "code",
   "execution_count": 63,
   "metadata": {},
   "outputs": [],
   "source": [
    "arr = [[5,12,4,31],[24,13,11,2],[43,44,19,26],[33,65,20,21]]\n",
    "# arr1 = []\n",
    "# for i in range(len(arr)):\n",
    "#     for j in range(4):\n",
    "#         print(j)\n",
    "#         arr1.append(arr[i][j])\n",
    "\n",
    "# arr1.sort()\n",
    "# arr1"
   ]
  },
  {
   "cell_type": "code",
   "execution_count": 65,
   "metadata": {},
   "outputs": [
    {
     "data": {
      "text/plain": [
       "[5, 12, 4, 31, 24, 13, 11, 2, 43, 44, 19, 26, 33, 65, 20, 21]"
      ]
     },
     "execution_count": 65,
     "metadata": {},
     "output_type": "execute_result"
    }
   ],
   "source": [
    "[n for i in arr for n in i]"
   ]
  },
  {
   "cell_type": "code",
   "execution_count": null,
   "metadata": {},
   "outputs": [],
   "source": []
  }
 ],
 "metadata": {
  "kernelspec": {
   "display_name": "PyAloha",
   "language": "python",
   "name": "ingb"
  },
  "language_info": {
   "codemirror_mode": {
    "name": "ipython",
    "version": 3
   },
   "file_extension": ".py",
   "mimetype": "text/x-python",
   "name": "python",
   "nbconvert_exporter": "python",
   "pygments_lexer": "ipython3",
   "version": "3.7.9"
  }
 },
 "nbformat": 4,
 "nbformat_minor": 4
}
